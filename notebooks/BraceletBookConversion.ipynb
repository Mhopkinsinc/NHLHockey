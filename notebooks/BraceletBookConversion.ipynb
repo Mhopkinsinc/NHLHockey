{
 "cells": [
  {
   "cell_type": "markdown",
   "metadata": {},
   "source": [
    "## Convert https://www.braceletbook.com/ pixel art to png\n",
    "\n",
    "This notebook will take a downloaded image from braceletbook.com and convert the image to its proper png scale for pixel art."
   ]
  },
  {
   "cell_type": "code",
   "execution_count": 16,
   "metadata": {},
   "outputs": [
    {
     "name": "stdout",
     "output_type": "stream",
     "text": [
      "Starting image processing...\n",
      "Detected grid: 8 rows x 17 columns\n",
      "Total time: 0.01 seconds\n",
      "Output saved to: image_output.png\n"
     ]
    }
   ],
   "source": [
    "import cv2\n",
    "import numpy as np\n",
    "import time\n",
    "\n",
    "def create_color_grid(image_path, output_path):\n",
    "    print(\"Starting image processing...\")\n",
    "    start_time = time.time()\n",
    "    \n",
    "    # Read the image\n",
    "    img = cv2.imread(image_path)\n",
    "    if img is None:\n",
    "        raise Exception(\"Could not read the image\")\n",
    "    \n",
    "    # Convert to grayscale for box detection\n",
    "    gray = cv2.cvtColor(img, cv2.COLOR_BGR2GRAY)\n",
    "    _, thresh = cv2.threshold(gray, 131, 255, cv2.THRESH_BINARY)\n",
    "    contours, _ = cv2.findContours(thresh, cv2.RETR_EXTERNAL, cv2.CHAIN_APPROX_SIMPLE)\n",
    "    \n",
    "    # Store box centers and their colors\n",
    "    box_data = []\n",
    "    \n",
    "    for contour in contours:\n",
    "        peri = cv2.arcLength(contour, True)\n",
    "        approx = cv2.approxPolyDP(contour, 0.02 * peri, True)\n",
    "        \n",
    "        if len(approx) == 4:\n",
    "            x, y, w, h = cv2.boundingRect(approx)\n",
    "            aspect_ratio = float(w)/h\n",
    "            if 0.2 < aspect_ratio < 5:\n",
    "                # Get center point\n",
    "                center_x = int(x + w/2)\n",
    "                center_y = int(y + h/2)\n",
    "                \n",
    "                # Sample color at center point\n",
    "                color = img[center_y, center_x]\n",
    "                \n",
    "                box_data.append({\n",
    "                    'center': (center_x, center_y),\n",
    "                    'color': color\n",
    "                })\n",
    "    \n",
    "    # Find grid dimensions\n",
    "    tolerance = 5\n",
    "    centers = np.array([box['center'] for box in box_data])\n",
    "    unique_x = np.unique(np.round(centers[:, 0] / tolerance)) * tolerance\n",
    "    unique_y = np.unique(np.round(centers[:, 1] / tolerance)) * tolerance\n",
    "    \n",
    "    num_rows = len(unique_y)\n",
    "    num_cols = len(unique_x)\n",
    "    \n",
    "    print(f\"Detected grid: {num_rows} rows x {num_cols} columns\")\n",
    "    \n",
    "    # Create new image (single pixel per box)\n",
    "    new_img = np.zeros((num_rows, num_cols, 3), dtype=np.uint8)\n",
    "    \n",
    "    # Map box centers to grid positions\n",
    "    for box in box_data:\n",
    "        x, y = box['center']\n",
    "        # Find nearest grid position\n",
    "        col = np.argmin(np.abs(unique_x - x))\n",
    "        row = np.argmin(np.abs(unique_y - y))\n",
    "        new_img[row, col] = box['color']\n",
    "    \n",
    "    # Save the result\n",
    "    cv2.imwrite(output_path, new_img)\n",
    "    \n",
    "    print(f\"Total time: {time.time() - start_time:.2f} seconds\")\n",
    "    print(f\"Output saved to: {output_path}\")\n",
    "    \n",
    "    return new_img\n",
    "\n",
    "# Use the function\n",
    "input_path = 'image_input.png'\n",
    "output_path = 'image_output.png'\n",
    "try:\n",
    "    result = create_color_grid(input_path, output_path)\n",
    "except Exception as e:\n",
    "    print(f\"An error occurred: {e}\")"
   ]
  }
 ],
 "metadata": {
  "kernelspec": {
   "display_name": "venv",
   "language": "python",
   "name": "python3"
  },
  "language_info": {
   "codemirror_mode": {
    "name": "ipython",
    "version": 3
   },
   "file_extension": ".py",
   "mimetype": "text/x-python",
   "name": "python",
   "nbconvert_exporter": "python",
   "pygments_lexer": "ipython3",
   "version": "3.12.2"
  }
 },
 "nbformat": 4,
 "nbformat_minor": 2
}
